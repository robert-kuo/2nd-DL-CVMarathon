{
 "cells": [
  {
   "cell_type": "code",
   "execution_count": 3,
   "metadata": {},
   "outputs": [],
   "source": [
    "from keras.models import Input, Model\n",
    "from keras.layers import DepthwiseConv2D, Conv2D, BatchNormalization, ReLU\n",
    "\n",
    "def SeparableConv(input):\n",
    "    # Depthwise Convolution\n",
    "    x = DepthwiseConv2D((3,3), padding='same')(input)\n",
    "    x = BatchNormalization()(x)\n",
    "    x = ReLU()(x)\n",
    "    \n",
    "    # Pointwise Convolution\n",
    "    x = Conv2D(128, (1,1))(x)\n",
    "    x = BatchNormalization()(x)\n",
    "    x = ReLU()(x)\n",
    "    \n",
    "    return x"
   ]
  },
  {
   "cell_type": "code",
   "execution_count": 4,
   "metadata": {},
   "outputs": [
    {
     "name": "stdout",
     "output_type": "stream",
     "text": [
      "_________________________________________________________________\n",
      "Layer (type)                 Output Shape              Param #   \n",
      "=================================================================\n",
      "input_2 (InputLayer)         (None, 64, 64, 3)         0         \n",
      "_________________________________________________________________\n",
      "depthwise_conv2d_2 (Depthwis (None, 64, 64, 3)         30        \n",
      "_________________________________________________________________\n",
      "batch_normalization_3 (Batch (None, 64, 64, 3)         12        \n",
      "_________________________________________________________________\n",
      "re_lu_3 (ReLU)               (None, 64, 64, 3)         0         \n",
      "_________________________________________________________________\n",
      "conv2d_2 (Conv2D)            (None, 64, 64, 128)       512       \n",
      "_________________________________________________________________\n",
      "batch_normalization_4 (Batch (None, 64, 64, 128)       512       \n",
      "_________________________________________________________________\n",
      "re_lu_4 (ReLU)               (None, 64, 64, 128)       0         \n",
      "=================================================================\n",
      "Total params: 1,066\n",
      "Trainable params: 804\n",
      "Non-trainable params: 262\n",
      "_________________________________________________________________\n"
     ]
    }
   ],
   "source": [
    "input = Input((64, 64, 3))\n",
    "output = SeparableConv(input)\n",
    "model = Model(inputs=input, outputs=output)\n",
    "model.summary()"
   ]
  }
 ],
 "metadata": {
  "kernelspec": {
   "display_name": "Python 3",
   "language": "python",
   "name": "python3"
  },
  "language_info": {
   "codemirror_mode": {
    "name": "ipython",
    "version": 3
   },
   "file_extension": ".py",
   "mimetype": "text/x-python",
   "name": "python",
   "nbconvert_exporter": "python",
   "pygments_lexer": "ipython3",
   "version": "3.6.9"
  }
 },
 "nbformat": 4,
 "nbformat_minor": 2
}
