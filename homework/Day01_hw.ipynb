{
 "cells": [
  {
   "cell_type": "code",
   "execution_count": null,
   "metadata": {},
   "outputs": [],
   "source": [
    "#  作業¶\n",
    "\n",
    "#  思考一下我們前面有提到圖片是矩陣，但維度可能會不一樣 例如灰階圖只有兩個維度，RGB 彩圖則有 3 個維度\n",
    "#  假如今天我們把 RGB 3 個維度拆開來看會有甚麼不同的效果呢？\n",
    "\n",
    "import cv2\n",
    "import numpy as np\n",
    "\n",
    "img_path = 'c:\\\\home\\\\lena.png'\n",
    "\n",
    "# 以彩色圖片的方式載入\n",
    "img = cv2.imread(img_path, cv2.IMREAD_COLOR)\n",
    "\n",
    "channels = cv2.split(img)\n",
    "\n",
    "# 以灰階圖片的方式載入\n",
    "#img_gray = cv2.imread(img_path, cv2.IMREAD_GRAYSCALE)\n",
    "\n",
    "# 為了要不斷顯示圖片，所以使用一個迴圈\n",
    "while True:\n",
    "    # 顯示彩圖\n",
    "    cv2.imshow('bgr', img)\n",
    "\n",
    "    zeros = np.zeros(img.shape[:2], dtype=\"uint8\")\n",
    "\n",
    "    cv2.imshow('BLUE', cv2.merge([channels[0], zeros, zeros]))\n",
    "    cv2.imshow('GREEN', cv2.merge([zeros, channels[1], zeros]))\n",
    "    cv2.imshow('RED', cv2.merge([zeros, zeros, channels[2]]))\n",
    "\n",
    "    # 顯示灰圖\n",
    "    #cv2.imshow('gray', img_gray)\n",
    "\n",
    "    # 直到按下 ESC 鍵才會自動關閉視窗結束程式\n",
    "    k = cv2.waitKey(0)\n",
    "    if k == 27:\n",
    "        cv2.destroyAllWindows()\n",
    "        break"
   ]
  }
 ],
 "metadata": {
  "kernelspec": {
   "display_name": "Python 3",
   "language": "python",
   "name": "python3"
  },
  "language_info": {
   "codemirror_mode": {
    "name": "ipython",
    "version": 3
   },
   "file_extension": ".py",
   "mimetype": "text/x-python",
   "name": "python",
   "nbconvert_exporter": "python",
   "pygments_lexer": "ipython3",
   "version": "3.6.9"
  }
 },
 "nbformat": 4,
 "nbformat_minor": 2
}
