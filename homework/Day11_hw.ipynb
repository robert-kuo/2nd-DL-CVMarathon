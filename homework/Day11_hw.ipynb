{
 "cells": [
  {
   "cell_type": "code",
   "execution_count": 2,
   "metadata": {},
   "outputs": [
    {
     "name": "stdout",
     "output_type": "stream",
     "text": [
      "_________________________________________________________________\n",
      "Layer (type)                 Output Shape              Param #   \n",
      "=================================================================\n",
      "conv2d_2 (Conv2D)            (None, 28, 28, 32)        320       \n",
      "=================================================================\n",
      "Total params: 320\n",
      "Trainable params: 320\n",
      "Non-trainable params: 0\n",
      "_________________________________________________________________\n",
      "None\n",
      "_________________________________________________________________\n",
      "Layer (type)                 Output Shape              Param #   \n",
      "=================================================================\n",
      "input_2 (InputLayer)         (None, 28, 28, 1)         0         \n",
      "_________________________________________________________________\n",
      "dense_2 (Dense)              (None, 28, 28, 288)       576       \n",
      "=================================================================\n",
      "Total params: 576\n",
      "Trainable params: 576\n",
      "Non-trainable params: 0\n",
      "_________________________________________________________________\n",
      "None\n"
     ]
    },
    {
     "data": {
      "text/plain": [
       "'理解輸出Total params為何==226080'"
      ]
     },
     "execution_count": 2,
     "metadata": {},
     "output_type": "execute_result"
    }
   ],
   "source": [
    "from keras.models import Sequential\n",
    "from keras.layers import Convolution2D\n",
    "from keras.layers import Input, Dense\n",
    "from keras.models import Model\n",
    "\n",
    "\n",
    "##輸入照片尺寸==28*28*1\n",
    "##都用一層，288個神經元\n",
    "\n",
    "##建造一個一層的CNN層\n",
    "classifier=Sequential()\n",
    "\n",
    "##Kernel size 3*3，用32張，輸入大小28*28*1\n",
    "classifier.add(Convolution2D(filters=32, kernel_size=3, padding='same', input_shape=(28, 28, 1)))  \n",
    "'''32張Kernel，大小為3*3，輸入尺寸為28*28*1'''\n",
    "##看看model結構\n",
    "print(classifier.summary())\n",
    "'''理解輸出Total params為何==320'''\n",
    "\n",
    "##建造一個一層的FC層\n",
    "classifier=Sequential()\n",
    "##輸入為28*28*1攤平==784\n",
    "inputs = Input((28, 28, 1))   #'''輸入尺寸為28*28*1'''\n",
    "##CNN中用了(3*3*1)*32個神經元，我們這邊也用相同神經元數量\n",
    "x=Dense(3*3*1*32)(inputs)   #'''使用288個神經元'''\n",
    "model = Model(inputs=inputs, outputs=x)\n",
    "##看看model結構\n",
    "print(model.summary())\n",
    "'''理解輸出Total params為何==226080'''\n",
    "\n",
    "##大家可以自己變換設定看看參數變化"
   ]
  },
  {
   "cell_type": "code",
   "execution_count": null,
   "metadata": {},
   "outputs": [],
   "source": []
  },
  {
   "cell_type": "code",
   "execution_count": null,
   "metadata": {},
   "outputs": [],
   "source": []
  }
 ],
 "metadata": {
  "kernelspec": {
   "display_name": "Python 3",
   "language": "python",
   "name": "python3"
  },
  "language_info": {
   "codemirror_mode": {
    "name": "ipython",
    "version": 3
   },
   "file_extension": ".py",
   "mimetype": "text/x-python",
   "name": "python",
   "nbconvert_exporter": "python",
   "pygments_lexer": "ipython3",
   "version": "3.6.9"
  }
 },
 "nbformat": 4,
 "nbformat_minor": 2
}
